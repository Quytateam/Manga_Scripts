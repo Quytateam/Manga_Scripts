{
 "cells": [
  {
   "cell_type": "code",
   "execution_count": 71,
   "metadata": {},
   "outputs": [],
   "source": [
    "import random\n",
    "import pandas as pd\n",
    "from scipy import sparse\n",
    "from sklearn.metrics.pairwise import cosine_similarity\n",
    "import numpy as np\n",
    "import os"
   ]
  },
  {
   "cell_type": "code",
   "execution_count": 72,
   "metadata": {},
   "outputs": [],
   "source": [
    "def filter_func(id,fileName):\n",
    "    mangas_df = pd.read_csv('../Collaborative Filtering/mangas.csv')\n",
    "    behaviors_df = pd.read_csv(f'../Collaborative Filtering/behaviors_{fileName}.csv')\n",
    "\n",
    "    if fileName == \"isFollow\":\n",
    "        behaviors_df['isFollow'] = behaviors_df['isFollow'].replace({True: 5, False: 0}).infer_objects(copy=False)\n",
    "\n",
    "    behaviors_df[fileName].fillna(0, inplace=True)\n",
    "    user_id_list = behaviors_df['userId'].unique()\n",
    "    manga_id_list = mangas_df['_id'].unique()\n",
    "\n",
    "    expanded_data = [{'userId': user_id, '_id': manga_id} for user_id in user_id_list for manga_id in manga_id_list]\n",
    "    expanded_df = pd.DataFrame(expanded_data)\n",
    "    expanded_df.rename(columns={'_id': 'mangaId'}, inplace=True)\n",
    "\n",
    "    merged_df = pd.merge(expanded_df, behaviors_df, on=['userId', 'mangaId'], how='left')\n",
    "    merged_df[fileName] = merged_df[fileName].fillna(0)\n",
    "    merged_df.drop(columns=['updatedAt'], inplace=True)\n",
    "\n",
    "    mangas_df.rename(columns={'_id': 'mangaId'}, inplace=True)\n",
    "    datas = pd.merge(mangas_df, merged_df, on='mangaId').drop(['author','genre'],axis=1)\n",
    "\n",
    "    userDatas = datas.pivot_table(index=['userId'],columns=['mangaId'],values=fileName)\n",
    "\n",
    "    def standardize(row):\n",
    "        return (row - row.mean()) / (row.max() - row.min())\n",
    "    df_std = userDatas.apply(standardize).T.fillna(0)\n",
    "\n",
    "    sparse_df = sparse.csr_matrix(df_std.values)\n",
    "    cosine_sim_matrix = pd.DataFrame(cosine_similarity(sparse_df), index=userDatas.columns, columns=userDatas.columns)\n",
    "\n",
    "    corrMatrix = userDatas.corr(method='pearson')\n",
    "\n",
    "    def get_recommendations(user_id, userViews, corrMatrix, num_recommendations=36):\n",
    "        user_data = userViews.loc[user_id]\n",
    "        watched_items = user_data[user_data > 0].index.tolist()\n",
    "\n",
    "        recommendations = {}\n",
    "        for item in watched_items:\n",
    "            similar_items = corrMatrix[item].drop(item).sort_values(ascending=False)\n",
    "            for similar_item, score in similar_items.items():\n",
    "                if np.isnan(score):  # Kiểm tra và loại bỏ giá trị NaN\n",
    "                    continue\n",
    "                if similar_item in recommendations:\n",
    "                    recommendations[similar_item] += score\n",
    "                else:\n",
    "                    recommendations[similar_item] = score\n",
    "\n",
    "        for item in watched_items:\n",
    "            if item in recommendations:\n",
    "                recommendations[item] += 1.0\n",
    "            else:\n",
    "                recommendations[item] = 1.0 \n",
    "\n",
    "        sorted_recommendations = sorted(recommendations.items(), key=lambda x: x[1], reverse=True)\n",
    "        return sorted_recommendations[:num_recommendations]\n",
    "\n",
    "    recommendations = get_recommendations(id, userDatas, corrMatrix)\n",
    "\n",
    "    # filtered_recommendations = [item_id for item_id, score in recommendations if not math.isnan(score)]\n",
    "    filtered_recommendations = [item_id for item_id, score in recommendations if not np.isnan(score)]\n",
    "    return filtered_recommendations"
   ]
  },
  {
   "cell_type": "code",
   "execution_count": 73,
   "metadata": {},
   "outputs": [],
   "source": [
    "def filter_func_rating(id):\n",
    "    csv_path = '../Collaborative Filtering/Recommendation_Rating.csv'\n",
    "    if os.path.exists(csv_path):\n",
    "        recommendation_df = pd.read_csv(csv_path)\n",
    "        if id in recommendation_df.columns:\n",
    "            manga_id_list = recommendation_df[id].tolist()\n",
    "        else:\n",
    "            random_column = random.choice(recommendation_df.columns[0:])\n",
    "            manga_id_list = recommendation_df[random_column].tolist()\n",
    "    else:\n",
    "        manga_id_list = []\n",
    "    # In ra danh sách mangaId\n",
    "    return manga_id_list[:36]"
   ]
  },
  {
   "cell_type": "code",
   "execution_count": 95,
   "metadata": {},
   "outputs": [
    {
     "name": "stdout",
     "output_type": "stream",
     "text": [
      "['662a9e73d2a9173d53c01b9d', '662a9e74d2a9173d53c01b9e', '662a9e75d2a9173d53c01b9f', '662a9e76d2a9173d53c01ba0', '662a9e77d2a9173d53c01ba1', '662a9e78d2a9173d53c01ba2', '662a9e79d2a9173d53c01ba3', '662a9e7ad2a9173d53c01ba4', '662a9e7bd2a9173d53c01ba5', '662a9e7cd2a9173d53c01ba6', '662a9e7dd2a9173d53c01ba7', '662a9e7ed2a9173d53c01ba8', '662a9e7fd2a9173d53c01ba9', '662a9e80d2a9173d53c01baa', '662a9e81d2a9173d53c01bab', '662a9e82d2a9173d53c01bac', '662a9e84d2a9173d53c01bae', '662a9e85d2a9173d53c01baf', '662a9e87d2a9173d53c01bb1', '662a9e89d2a9173d53c01bb3', '662a9e8ad2a9173d53c01bb4']\n"
     ]
    },
    {
     "name": "stderr",
     "output_type": "stream",
     "text": [
      "C:\\Users\\Admin\\AppData\\Local\\Temp\\ipykernel_16496\\1607515117.py:8: FutureWarning: A value is trying to be set on a copy of a DataFrame or Series through chained assignment using an inplace method.\n",
      "The behavior will change in pandas 3.0. This inplace method will never work because the intermediate object on which we are setting values always behaves as a copy.\n",
      "\n",
      "For example, when doing 'df[col].method(value, inplace=True)', try using 'df.method({col: value}, inplace=True)' or df[col] = df[col].method(value) instead, to perform the operation inplace on the original object.\n",
      "\n",
      "\n",
      "  behaviors_df[fileName].fillna(0, inplace=True)\n"
     ]
    }
   ],
   "source": [
    "user_id = '5f892400948be104b0830fde'\n",
    "filter = ['view','sumTimeRead','readingFrequency','rating','numOfComment','isFollow']\n",
    "length = len(filter)\n",
    "random_num = random.randint(1, length)\n",
    "filter_chose = random.sample(filter, random_num)\n",
    "result_dict = {}\n",
    "for chosen_filter in filter_chose:\n",
    "    if chosen_filter == 'rating':\n",
    "        result_dict[chosen_filter] = filter_func_rating(user_id)\n",
    "        if len(filter_func_rating(user_id)) == 0:\n",
    "            result_dict[chosen_filter] = filter_func(user_id,'isFollow')\n",
    "    else:\n",
    "        result_dict[chosen_filter] = filter_func(user_id,chosen_filter)\n",
    "\n",
    "unique_values_set = set()\n",
    "for values in result_dict.values():\n",
    "    unique_values_set.update(values)\n",
    "unique_values_list = sorted(unique_values_set)\n",
    "print(unique_values_list[:36])\n",
    "# first_key, first_value = next(iter(result_dict.items()))\n",
    "# print(\"Phần tử đầu tiên trong result_dict:\")\n",
    "# print(\"Key:\", first_key)\n",
    "# print(\"Value:\", first_value)"
   ]
  },
  {
   "cell_type": "code",
   "execution_count": 92,
   "metadata": {},
   "outputs": [
    {
     "name": "stdout",
     "output_type": "stream",
     "text": [
      "['111', '181', 'abc', 'abd', 'abe', 'abk']\n"
     ]
    }
   ],
   "source": [
    "result_dict1 = {\n",
    "    'view': ['abd', 'abc', '111'], \n",
    "    'rating': ['abk', 'abe', '111'],\n",
    "    'sumTimeRead': ['abd', 'abc', '181']\n",
    "}\n"
   ]
  }
 ],
 "metadata": {
  "kernelspec": {
   "display_name": "venv",
   "language": "python",
   "name": "python3"
  },
  "language_info": {
   "codemirror_mode": {
    "name": "ipython",
    "version": 3
   },
   "file_extension": ".py",
   "mimetype": "text/x-python",
   "name": "python",
   "nbconvert_exporter": "python",
   "pygments_lexer": "ipython3",
   "version": "3.12.3"
  }
 },
 "nbformat": 4,
 "nbformat_minor": 2
}
