{
 "cells": [
  {
   "cell_type": "code",
   "execution_count": 11,
   "metadata": {},
   "outputs": [
    {
     "name": "stdout",
     "output_type": "stream",
     "text": [
      "0     662a9e77d2a9173d53c01ba1\n",
      "1     662a9e84d2a9173d53c01bae\n",
      "2     662a9e86d2a9173d53c01bb0\n",
      "3     662a9e87d2a9173d53c01bb1\n",
      "4     662a9e7cd2a9173d53c01ba6\n",
      "5     662a9e75d2a9173d53c01b9f\n",
      "6     662a9e7dd2a9173d53c01ba7\n",
      "7     662a9e80d2a9173d53c01baa\n",
      "8     662a9e85d2a9173d53c01baf\n",
      "9     662a9e8bd2a9173d53c01bb5\n",
      "10    662a9e78d2a9173d53c01ba2\n",
      "11    662a9e89d2a9173d53c01bb3\n",
      "12    662a9e75d2a9173d53c01b9f\n",
      "13    662a9e7dd2a9173d53c01ba7\n",
      "14    662a9e80d2a9173d53c01baa\n",
      "15    662a9e85d2a9173d53c01baf\n",
      "16    662a9e73d2a9173d53c01b9d\n",
      "17    662a9e77d2a9173d53c01ba1\n",
      "18    662a9e84d2a9173d53c01bae\n",
      "19    662a9e86d2a9173d53c01bb0\n",
      "Name: _id, dtype: object\n"
     ]
    }
   ],
   "source": [
    "import pandas as pd\n",
    "from sklearn.feature_extraction.text import TfidfVectorizer\n",
    "from sklearn.metrics.pairwise import linear_kernel\n",
    "\n",
    "# Đọc dữ liệu manga từ DataFrame\n",
    "mangas_df = pd.read_csv('../Collaborative Filtering/mangas1.csv')\n",
    "\n",
    "# Tạo ma trận TF-IDF cho mỗi manga dựa trên thể loại\n",
    "tfidf = TfidfVectorizer(token_pattern=r'[a-zA-Z0-9\\-]+')\n",
    "tfidf_matrix = tfidf.fit_transform(mangas_df['genre'])\n",
    "\n",
    "# Tính ma trận tương đồng cosine giữa các manga dựa trên ma trận TF-IDF\n",
    "cosine_sim = linear_kernel(tfidf_matrix, tfidf_matrix)\n",
    "\n",
    "def get_recommendations_by_manga_ids(manga_ids, cosine_sim=cosine_sim, mangas_df=mangas_df):\n",
    "    recommended_mangas = pd.DataFrame(columns=['name', 'author', 'genre'])\n",
    "\n",
    "    for manga_id in manga_ids:\n",
    "        idx = mangas_df.index[mangas_df['_id'] == manga_id].tolist()\n",
    "\n",
    "        if idx:\n",
    "            idx = idx[0]\n",
    "            sim_scores = list(enumerate(cosine_sim[idx]))\n",
    "            sim_scores = sorted(sim_scores, key=lambda x: x[1], reverse=True)\n",
    "            sim_scores = sim_scores[1:11]\n",
    "            manga_indices = [i[0] for i in sim_scores]\n",
    "            recommended_mangas = pd.concat([recommended_mangas, mangas_df.iloc[manga_indices]], ignore_index=True)\n",
    "\n",
    "    return recommended_mangas\n",
    "\n",
    "# Gợi ý manga cho danh sách mangaIds ['662a9e73d2a9173d53c01b9d', '662a9e74d2a9173d53c01b9e']\n",
    "a = get_recommendations_by_manga_ids(['662a9e73d2a9173d53c01b9d', '662a9e74d2a9173d53c01b9e'])\n",
    "print(a['_id'])\n"
   ]
  }
 ],
 "metadata": {
  "kernelspec": {
   "display_name": "venv",
   "language": "python",
   "name": "python3"
  },
  "language_info": {
   "codemirror_mode": {
    "name": "ipython",
    "version": 3
   },
   "file_extension": ".py",
   "mimetype": "text/x-python",
   "name": "python",
   "nbconvert_exporter": "python",
   "pygments_lexer": "ipython3",
   "version": "3.12.3"
  }
 },
 "nbformat": 4,
 "nbformat_minor": 2
}
