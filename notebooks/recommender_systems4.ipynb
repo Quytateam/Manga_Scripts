{
 "cells": [
  {
   "cell_type": "code",
   "execution_count": 277,
   "metadata": {},
   "outputs": [
    {
     "name": "stdout",
     "output_type": "stream",
     "text": [
      "Note: you may need to restart the kernel to use updated packages.\n",
      "Requirement already satisfied: scipy in c:\\users\\admin\\downloads\\graduation_project\\scripts\\venv\\lib\\site-packages (1.13.1)\n",
      "Requirement already satisfied: numpy<2.3,>=1.22.4 in c:\\users\\admin\\downloads\\graduation_project\\scripts\\venv\\lib\\site-packages (from scipy) (1.26.4)\n",
      "Note: you may need to restart the kernel to use updated packages.\n",
      "Requirement already satisfied: scikit-learn in c:\\users\\admin\\downloads\\graduation_project\\scripts\\venv\\lib\\site-packages (1.5.0)\n",
      "Requirement already satisfied: numpy>=1.19.5 in c:\\users\\admin\\downloads\\graduation_project\\scripts\\venv\\lib\\site-packages (from scikit-learn) (1.26.4)\n",
      "Requirement already satisfied: scipy>=1.6.0 in c:\\users\\admin\\downloads\\graduation_project\\scripts\\venv\\lib\\site-packages (from scikit-learn) (1.13.1)\n",
      "Requirement already satisfied: joblib>=1.2.0 in c:\\users\\admin\\downloads\\graduation_project\\scripts\\venv\\lib\\site-packages (from scikit-learn) (1.4.2)\n",
      "Requirement already satisfied: threadpoolctl>=3.1.0 in c:\\users\\admin\\downloads\\graduation_project\\scripts\\venv\\lib\\site-packages (from scikit-learn) (3.5.0)\n",
      "Note: you may need to restart the kernel to use updated packages.\n"
     ]
    }
   ],
   "source": [
    "%pip install -q keras-nightly\n",
    "%pip install scipy\n",
    "%pip install scikit-learn"
   ]
  },
  {
   "cell_type": "code",
   "execution_count": 278,
   "metadata": {},
   "outputs": [],
   "source": [
    "import pandas as pd\n",
    "from scipy import sparse\n",
    "from sklearn.metrics.pairwise import cosine_similarity\n",
    "import numpy as np"
   ]
  },
  {
   "cell_type": "code",
   "execution_count": 279,
   "metadata": {},
   "outputs": [],
   "source": [
    "fileName = \"isFollow\"\n",
    "mangas_df = pd.read_csv('../Collaborative Filtering/mangas.csv')\n",
    "behaviors_df = pd.read_csv(f'../Collaborative Filtering/behaviors_{fileName}.csv')"
   ]
  },
  {
   "cell_type": "code",
   "execution_count": 280,
   "metadata": {},
   "outputs": [
    {
     "name": "stderr",
     "output_type": "stream",
     "text": [
      "C:\\Users\\Admin\\AppData\\Local\\Temp\\ipykernel_4440\\505009233.py:2: FutureWarning: Downcasting behavior in `replace` is deprecated and will be removed in a future version. To retain the old behavior, explicitly call `result.infer_objects(copy=False)`. To opt-in to the future behavior, set `pd.set_option('future.no_silent_downcasting', True)`\n",
      "  behaviors_df['isFollow'] = behaviors_df['isFollow'].replace({True: 1, False: 0}).infer_objects(copy=False)\n"
     ]
    }
   ],
   "source": [
    "if fileName == \"isFollow\":\n",
    "    behaviors_df['isFollow'] = behaviors_df['isFollow'].replace({True: 1, False: 0}).infer_objects(copy=False)"
   ]
  },
  {
   "cell_type": "code",
   "execution_count": 281,
   "metadata": {},
   "outputs": [
    {
     "name": "stderr",
     "output_type": "stream",
     "text": [
      "C:\\Users\\Admin\\AppData\\Local\\Temp\\ipykernel_4440\\2389881273.py:1: FutureWarning: A value is trying to be set on a copy of a DataFrame or Series through chained assignment using an inplace method.\n",
      "The behavior will change in pandas 3.0. This inplace method will never work because the intermediate object on which we are setting values always behaves as a copy.\n",
      "\n",
      "For example, when doing 'df[col].method(value, inplace=True)', try using 'df.method({col: value}, inplace=True)' or df[col] = df[col].method(value) instead, to perform the operation inplace on the original object.\n",
      "\n",
      "\n",
      "  behaviors_df[fileName].fillna(0, inplace=True)\n"
     ]
    }
   ],
   "source": [
    "behaviors_df[fileName].fillna(0, inplace=True)\n",
    "user_id_list = behaviors_df['userId'].unique()\n",
    "manga_id_list = mangas_df['_id'].unique()"
   ]
  },
  {
   "cell_type": "code",
   "execution_count": 282,
   "metadata": {},
   "outputs": [],
   "source": [
    "expanded_data = [{'userId': user_id, '_id': manga_id} for user_id in user_id_list for manga_id in manga_id_list]\n",
    "expanded_df = pd.DataFrame(expanded_data)\n",
    "expanded_df.rename(columns={'_id': 'mangaId'}, inplace=True)"
   ]
  },
  {
   "cell_type": "code",
   "execution_count": 283,
   "metadata": {},
   "outputs": [],
   "source": [
    "merged_df = pd.merge(expanded_df, behaviors_df, on=['userId', 'mangaId'], how='left')\n",
    "merged_df[fileName] = merged_df[fileName].fillna(0)\n",
    "merged_df.drop(columns=['updatedAt'], inplace=True)"
   ]
  },
  {
   "cell_type": "code",
   "execution_count": 284,
   "metadata": {},
   "outputs": [],
   "source": [
    "mangas_df.rename(columns={'_id': 'mangaId'}, inplace=True)\n",
    "datas = pd.merge(mangas_df, merged_df, on='mangaId').drop(['author','genre'],axis=1)\n",
    "\n",
    "userDatas = datas.pivot_table(index=['userId'],columns=['mangaId'],values=fileName)"
   ]
  },
  {
   "cell_type": "code",
   "execution_count": 285,
   "metadata": {},
   "outputs": [],
   "source": [
    "def standardize(row):\n",
    "    return (row - row.mean()) / (row.max() - row.min())\n",
    "df_std = userDatas.apply(standardize).T.fillna(0)"
   ]
  },
  {
   "cell_type": "code",
   "execution_count": 286,
   "metadata": {},
   "outputs": [],
   "source": [
    "sparse_df = sparse.csr_matrix(df_std.values)\n",
    "cosine_sim_matrix = pd.DataFrame(cosine_similarity(sparse_df), index=userDatas.columns, columns=userDatas.columns)\n",
    "\n",
    "corrMatrix = userDatas.corr(method='pearson')"
   ]
  },
  {
   "cell_type": "code",
   "execution_count": 287,
   "metadata": {},
   "outputs": [],
   "source": [
    "def get_recommendations(user_id, userViews, corrMatrix, num_recommendations=36):\n",
    "    user_data = userViews.loc[user_id]\n",
    "    watched_items = user_data[user_data > 0].index.tolist()\n",
    "\n",
    "    recommendations = {}\n",
    "    for item in watched_items:\n",
    "        similar_items = corrMatrix[item].drop(item).sort_values(ascending=False)\n",
    "        for similar_item, score in similar_items.items():\n",
    "            if np.isnan(score):  # Kiểm tra và loại bỏ giá trị NaN\n",
    "                continue\n",
    "            if similar_item in recommendations:\n",
    "                recommendations[similar_item] += score\n",
    "            else:\n",
    "                recommendations[similar_item] = score\n",
    "\n",
    "    for item in watched_items:\n",
    "        if item in recommendations:\n",
    "            recommendations[item] += 1.0\n",
    "        else:\n",
    "            recommendations[item] = 1.0 \n",
    "\n",
    "    sorted_recommendations = sorted(recommendations.items(), key=lambda x: x[1], reverse=True)\n",
    "    return sorted_recommendations[:num_recommendations]"
   ]
  },
  {
   "cell_type": "code",
   "execution_count": 288,
   "metadata": {},
   "outputs": [
    {
     "data": {
      "text/plain": [
       "[('662a9e75d2a9173d53c01b9f', 1.0),\n",
       " ('662a9e73d2a9173d53c01b9d', -0.06189844605901726),\n",
       " ('662a9e83d2a9173d53c01bad', -0.06189844605901729),\n",
       " ('662a9e8ad2a9173d53c01bb4', -0.06189844605901729),\n",
       " ('662a9e86d2a9173d53c01bb0', -0.061898446059017294),\n",
       " ('662a9e80d2a9173d53c01baa', -0.061898446059017294),\n",
       " ('662a9e7cd2a9173d53c01ba6', -0.0618984460590173),\n",
       " ('662a9e7ed2a9173d53c01ba8', -0.0618984460590173),\n",
       " ('662a9e81d2a9173d53c01bab', -0.061898446059017315),\n",
       " ('662a9e84d2a9173d53c01bae', -0.061898446059017315),\n",
       " ('662a9e87d2a9173d53c01bb1', -0.06189844605901733),\n",
       " ('662a9e8bd2a9173d53c01bb5', -0.061898446059017335),\n",
       " ('662a9e7ad2a9173d53c01ba4', -0.08908708063747481),\n",
       " ('662a9e7bd2a9173d53c01ba5', -0.08908708063747482),\n",
       " ('662a9e7dd2a9173d53c01ba7', -0.08908708063747482),\n",
       " ('662a9e7fd2a9173d53c01ba9', -0.08908708063747482),\n",
       " ('662a9e76d2a9173d53c01ba0', -0.08908708063747482),\n",
       " ('662a9e85d2a9173d53c01baf', -0.08908708063747482),\n",
       " ('662a9e79d2a9173d53c01ba3', -0.08908708063747482),\n",
       " ('662a9e89d2a9173d53c01bb3', -0.08908708063747482),\n",
       " ('662a9e77d2a9173d53c01ba1', -0.08908708063747482)]"
      ]
     },
     "execution_count": 288,
     "metadata": {},
     "output_type": "execute_result"
    }
   ],
   "source": [
    "user_id = '5f892400948be104b0830fde'\n",
    "recommendations = get_recommendations(user_id, userDatas, corrMatrix)\n",
    "recommendations\n"
   ]
  },
  {
   "cell_type": "code",
   "execution_count": 289,
   "metadata": {},
   "outputs": [
    {
     "data": {
      "text/plain": [
       "['662a9e75d2a9173d53c01b9f',\n",
       " '662a9e73d2a9173d53c01b9d',\n",
       " '662a9e83d2a9173d53c01bad',\n",
       " '662a9e8ad2a9173d53c01bb4',\n",
       " '662a9e86d2a9173d53c01bb0',\n",
       " '662a9e80d2a9173d53c01baa',\n",
       " '662a9e7cd2a9173d53c01ba6',\n",
       " '662a9e7ed2a9173d53c01ba8',\n",
       " '662a9e81d2a9173d53c01bab',\n",
       " '662a9e84d2a9173d53c01bae',\n",
       " '662a9e87d2a9173d53c01bb1',\n",
       " '662a9e8bd2a9173d53c01bb5',\n",
       " '662a9e7ad2a9173d53c01ba4',\n",
       " '662a9e7bd2a9173d53c01ba5',\n",
       " '662a9e7dd2a9173d53c01ba7',\n",
       " '662a9e7fd2a9173d53c01ba9',\n",
       " '662a9e76d2a9173d53c01ba0',\n",
       " '662a9e85d2a9173d53c01baf',\n",
       " '662a9e79d2a9173d53c01ba3',\n",
       " '662a9e89d2a9173d53c01bb3',\n",
       " '662a9e77d2a9173d53c01ba1']"
      ]
     },
     "execution_count": 289,
     "metadata": {},
     "output_type": "execute_result"
    }
   ],
   "source": [
    "filtered_recommendations = [item_id for item_id, score in recommendations if not np.isnan(score)]\n",
    "filtered_recommendations"
   ]
  }
 ],
 "metadata": {
  "kernelspec": {
   "display_name": "venv",
   "language": "python",
   "name": "python3"
  },
  "language_info": {
   "codemirror_mode": {
    "name": "ipython",
    "version": 3
   },
   "file_extension": ".py",
   "mimetype": "text/x-python",
   "name": "python",
   "nbconvert_exporter": "python",
   "pygments_lexer": "ipython3",
   "version": "3.12.3"
  }
 },
 "nbformat": 4,
 "nbformat_minor": 2
}
