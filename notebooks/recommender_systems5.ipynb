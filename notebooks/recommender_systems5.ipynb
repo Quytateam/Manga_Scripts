{
 "cells": [
  {
   "cell_type": "code",
   "execution_count": 2,
   "metadata": {},
   "outputs": [
    {
     "name": "stdout",
     "output_type": "stream",
     "text": [
      "mangaId                   662a9e73d2a9173d53c01b9d\n",
      "userId                                            \n",
      "5f8923f3948be104b0830fd1                       0.5\n",
      "5f8923f4948be104b0830fd2                       0.0\n",
      "5f8923f5948be104b0830fd3                       0.0\n",
      "5f8923f6948be104b0830fd4                       0.0\n",
      "5f8923f7948be104b0830fd5                       0.0\n",
      "5f8923f8948be104b0830fd6                       0.0\n",
      "5f8923f9948be104b0830fd7                       0.0\n",
      "5f8923fa948be104b0830fd8                       0.0\n",
      "5f8923fb948be104b0830fd9                       0.0\n",
      "5f8923fc948be104b0830fda                       0.0\n",
      "5f8923fd948be104b0830fdb                       0.0\n",
      "5f8923fe948be104b0830fdc                       0.0\n",
      "5f8923ff948be104b0830fdd                       3.0\n",
      "5f892400948be104b0830fde                       0.0\n",
      "5f892401948be104b0830fdf                       0.0\n",
      "5f892402948be104b0830fe0                       0.0\n",
      "5f892403948be104b0830fe1                       0.0\n",
      "5f892404948be104b0830fe2                       0.0\n",
      "5f892405948be104b0830fe3                       0.0\n",
      "5f892406948be104b0830fe4                       0.0\n",
      "5f892407948be104b0830fe5                       0.0\n",
      "5f892408948be104b0830fe6                       0.0\n",
      "5f892409948be104b0830fe7                       0.0\n",
      "5f89240a948be104b0830fe8                       0.0\n",
      "5f89240b948be104b0830fe9                       3.0\n",
      "5f89240c948be104b0830fea                       0.0\n",
      "5f89240d948be104b0830feb                       0.0\n",
      "5f89240e948be104b0830fec                       0.0\n",
      "5f89240f948be104b0830fed                       0.0\n",
      "5f892410948be104b0830fee                       0.0\n",
      "mangaId                   662a9e73d2a9173d53c01b9d\n",
      "mangaId                                           \n",
      "662a9e73d2a9173d53c01b9d                       1.0\n"
     ]
    },
    {
     "name": "stderr",
     "output_type": "stream",
     "text": [
      "C:\\Users\\Admin\\AppData\\Local\\Temp\\ipykernel_30524\\937599099.py:7: FutureWarning: A value is trying to be set on a copy of a DataFrame or Series through chained assignment using an inplace method.\n",
      "The behavior will change in pandas 3.0. This inplace method will never work because the intermediate object on which we are setting values always behaves as a copy.\n",
      "\n",
      "For example, when doing 'df[col].method(value, inplace=True)', try using 'df.method({col: value}, inplace=True)' or df[col] = df[col].method(value) instead, to perform the operation inplace on the original object.\n",
      "\n",
      "\n",
      "  behaviors_df[fileName].fillna(0, inplace=True)\n"
     ]
    },
    {
     "ename": "KeyError",
     "evalue": "'662a9e7dd2a9173d53c01ba7'",
     "output_type": "error",
     "traceback": [
      "\u001b[1;31m---------------------------------------------------------------------------\u001b[0m",
      "\u001b[1;31mKeyError\u001b[0m                                  Traceback (most recent call last)",
      "File \u001b[1;32mc:\\Users\\Admin\\Downloads\\graduation_project\\scripts\\venv\\Lib\\site-packages\\pandas\\core\\indexes\\base.py:3805\u001b[0m, in \u001b[0;36mIndex.get_loc\u001b[1;34m(self, key)\u001b[0m\n\u001b[0;32m   3804\u001b[0m \u001b[38;5;28;01mtry\u001b[39;00m:\n\u001b[1;32m-> 3805\u001b[0m     \u001b[38;5;28;01mreturn\u001b[39;00m \u001b[38;5;28;43mself\u001b[39;49m\u001b[38;5;241;43m.\u001b[39;49m\u001b[43m_engine\u001b[49m\u001b[38;5;241;43m.\u001b[39;49m\u001b[43mget_loc\u001b[49m\u001b[43m(\u001b[49m\u001b[43mcasted_key\u001b[49m\u001b[43m)\u001b[49m\n\u001b[0;32m   3806\u001b[0m \u001b[38;5;28;01mexcept\u001b[39;00m \u001b[38;5;167;01mKeyError\u001b[39;00m \u001b[38;5;28;01mas\u001b[39;00m err:\n",
      "File \u001b[1;32mindex.pyx:167\u001b[0m, in \u001b[0;36mpandas._libs.index.IndexEngine.get_loc\u001b[1;34m()\u001b[0m\n",
      "File \u001b[1;32mindex.pyx:196\u001b[0m, in \u001b[0;36mpandas._libs.index.IndexEngine.get_loc\u001b[1;34m()\u001b[0m\n",
      "File \u001b[1;32mpandas\\\\_libs\\\\hashtable_class_helper.pxi:7081\u001b[0m, in \u001b[0;36mpandas._libs.hashtable.PyObjectHashTable.get_item\u001b[1;34m()\u001b[0m\n",
      "File \u001b[1;32mpandas\\\\_libs\\\\hashtable_class_helper.pxi:7089\u001b[0m, in \u001b[0;36mpandas._libs.hashtable.PyObjectHashTable.get_item\u001b[1;34m()\u001b[0m\n",
      "\u001b[1;31mKeyError\u001b[0m: '662a9e7dd2a9173d53c01ba7'",
      "\nThe above exception was the direct cause of the following exception:\n",
      "\u001b[1;31mKeyError\u001b[0m                                  Traceback (most recent call last)",
      "Cell \u001b[1;32mIn[2], line 49\u001b[0m\n\u001b[0;32m     46\u001b[0m similar_mangas_list \u001b[38;5;241m=\u001b[39m []\n\u001b[0;32m     47\u001b[0m \u001b[38;5;66;03m# for manga, data in test:\u001b[39;00m\n\u001b[0;32m     48\u001b[0m \u001b[38;5;66;03m#     similar_mangas_list.append(get_similar(manga, data))\u001b[39;00m\n\u001b[1;32m---> 49\u001b[0m similar_mangas_list\u001b[38;5;241m.\u001b[39mappend(\u001b[43mget_similar\u001b[49m\u001b[43m(\u001b[49m\u001b[43mmanga\u001b[49m\u001b[43m,\u001b[49m\u001b[43m \u001b[49m\u001b[43mdata\u001b[49m\u001b[43m)\u001b[49m)\n\u001b[0;32m     50\u001b[0m similar_mangas \u001b[38;5;241m=\u001b[39m pd\u001b[38;5;241m.\u001b[39mconcat(similar_mangas_list, axis\u001b[38;5;241m=\u001b[39m\u001b[38;5;241m1\u001b[39m)\u001b[38;5;241m.\u001b[39msum(axis\u001b[38;5;241m=\u001b[39m\u001b[38;5;241m1\u001b[39m)\u001b[38;5;241m.\u001b[39mreset_index()\n\u001b[0;32m     51\u001b[0m similar_mangas\u001b[38;5;241m.\u001b[39mcolumns \u001b[38;5;241m=\u001b[39m [\u001b[38;5;124m'\u001b[39m\u001b[38;5;124mmangaId\u001b[39m\u001b[38;5;124m'\u001b[39m, \u001b[38;5;124m'\u001b[39m\u001b[38;5;124mscore\u001b[39m\u001b[38;5;124m'\u001b[39m]\n",
      "Cell \u001b[1;32mIn[2], line 38\u001b[0m, in \u001b[0;36mget_similar\u001b[1;34m(manga_Id, data)\u001b[0m\n\u001b[0;32m     37\u001b[0m \u001b[38;5;28;01mdef\u001b[39;00m \u001b[38;5;21mget_similar\u001b[39m(manga_Id,data):\n\u001b[1;32m---> 38\u001b[0m     similar_datas \u001b[38;5;241m=\u001b[39m \u001b[43mcorrMatrix\u001b[49m\u001b[43m[\u001b[49m\u001b[43mmanga_Id\u001b[49m\u001b[43m]\u001b[49m\u001b[38;5;241m*\u001b[39m(data\u001b[38;5;241m-\u001b[39m\u001b[38;5;241m2.5\u001b[39m)\n\u001b[0;32m     39\u001b[0m     similar_datas \u001b[38;5;241m=\u001b[39m similar_datas\u001b[38;5;241m.\u001b[39msort_values(ascending\u001b[38;5;241m=\u001b[39m\u001b[38;5;28;01mFalse\u001b[39;00m)\n\u001b[0;32m     40\u001b[0m     \u001b[38;5;28;01mreturn\u001b[39;00m similar_datas\n",
      "File \u001b[1;32mc:\\Users\\Admin\\Downloads\\graduation_project\\scripts\\venv\\Lib\\site-packages\\pandas\\core\\frame.py:4102\u001b[0m, in \u001b[0;36mDataFrame.__getitem__\u001b[1;34m(self, key)\u001b[0m\n\u001b[0;32m   4100\u001b[0m \u001b[38;5;28;01mif\u001b[39;00m \u001b[38;5;28mself\u001b[39m\u001b[38;5;241m.\u001b[39mcolumns\u001b[38;5;241m.\u001b[39mnlevels \u001b[38;5;241m>\u001b[39m \u001b[38;5;241m1\u001b[39m:\n\u001b[0;32m   4101\u001b[0m     \u001b[38;5;28;01mreturn\u001b[39;00m \u001b[38;5;28mself\u001b[39m\u001b[38;5;241m.\u001b[39m_getitem_multilevel(key)\n\u001b[1;32m-> 4102\u001b[0m indexer \u001b[38;5;241m=\u001b[39m \u001b[38;5;28;43mself\u001b[39;49m\u001b[38;5;241;43m.\u001b[39;49m\u001b[43mcolumns\u001b[49m\u001b[38;5;241;43m.\u001b[39;49m\u001b[43mget_loc\u001b[49m\u001b[43m(\u001b[49m\u001b[43mkey\u001b[49m\u001b[43m)\u001b[49m\n\u001b[0;32m   4103\u001b[0m \u001b[38;5;28;01mif\u001b[39;00m is_integer(indexer):\n\u001b[0;32m   4104\u001b[0m     indexer \u001b[38;5;241m=\u001b[39m [indexer]\n",
      "File \u001b[1;32mc:\\Users\\Admin\\Downloads\\graduation_project\\scripts\\venv\\Lib\\site-packages\\pandas\\core\\indexes\\base.py:3812\u001b[0m, in \u001b[0;36mIndex.get_loc\u001b[1;34m(self, key)\u001b[0m\n\u001b[0;32m   3807\u001b[0m     \u001b[38;5;28;01mif\u001b[39;00m \u001b[38;5;28misinstance\u001b[39m(casted_key, \u001b[38;5;28mslice\u001b[39m) \u001b[38;5;129;01mor\u001b[39;00m (\n\u001b[0;32m   3808\u001b[0m         \u001b[38;5;28misinstance\u001b[39m(casted_key, abc\u001b[38;5;241m.\u001b[39mIterable)\n\u001b[0;32m   3809\u001b[0m         \u001b[38;5;129;01mand\u001b[39;00m \u001b[38;5;28many\u001b[39m(\u001b[38;5;28misinstance\u001b[39m(x, \u001b[38;5;28mslice\u001b[39m) \u001b[38;5;28;01mfor\u001b[39;00m x \u001b[38;5;129;01min\u001b[39;00m casted_key)\n\u001b[0;32m   3810\u001b[0m     ):\n\u001b[0;32m   3811\u001b[0m         \u001b[38;5;28;01mraise\u001b[39;00m InvalidIndexError(key)\n\u001b[1;32m-> 3812\u001b[0m     \u001b[38;5;28;01mraise\u001b[39;00m \u001b[38;5;167;01mKeyError\u001b[39;00m(key) \u001b[38;5;28;01mfrom\u001b[39;00m \u001b[38;5;21;01merr\u001b[39;00m\n\u001b[0;32m   3813\u001b[0m \u001b[38;5;28;01mexcept\u001b[39;00m \u001b[38;5;167;01mTypeError\u001b[39;00m:\n\u001b[0;32m   3814\u001b[0m     \u001b[38;5;66;03m# If we have a listlike key, _check_indexing_error will raise\u001b[39;00m\n\u001b[0;32m   3815\u001b[0m     \u001b[38;5;66;03m#  InvalidIndexError. Otherwise we fall through and re-raise\u001b[39;00m\n\u001b[0;32m   3816\u001b[0m     \u001b[38;5;66;03m#  the TypeError.\u001b[39;00m\n\u001b[0;32m   3817\u001b[0m     \u001b[38;5;28mself\u001b[39m\u001b[38;5;241m.\u001b[39m_check_indexing_error(key)\n",
      "\u001b[1;31mKeyError\u001b[0m: '662a9e7dd2a9173d53c01ba7'"
     ]
    }
   ],
   "source": [
    "import pandas as pd\n",
    "\n",
    "fileName = \"rating\"\n",
    "mangas_df = pd.read_csv('../Collaborative Filtering/mangas.csv')\n",
    "behaviors_df = pd.read_csv(f'../Collaborative Filtering/behaviors_{fileName}.csv')\n",
    "\n",
    "behaviors_df[fileName].fillna(0, inplace=True)\n",
    "\n",
    "user_id_list = behaviors_df['userId'].unique()\n",
    "manga_id_list = mangas_df['_id'].unique()\n",
    "expanded_data = []\n",
    "\n",
    "for user_id in user_id_list:\n",
    "    for manga_id in manga_id_list:\n",
    "        expanded_data.append({'userId': user_id, '_id': manga_id})\n",
    "\n",
    "expanded_df = pd.DataFrame(expanded_data)\n",
    "\n",
    "expanded_df.rename(columns={'_id': 'mangaId'}, inplace=True)\n",
    "merged_df = pd.merge(expanded_df, behaviors_df, on=['userId', 'mangaId'], how='left')\n",
    "\n",
    "merged_df[fileName] = merged_df[fileName].fillna(0)\n",
    "merged_df.drop(columns=['updatedAt'], inplace=True)\n",
    "\n",
    "mangas_df.rename(columns={'_id': 'mangaId'}, inplace=True)\n",
    "datas = pd.merge(mangas_df, merged_df, on='mangaId').drop(['author','genre'],axis=1)\n",
    "\n",
    "userDatas = datas.pivot_table(index=['userId'],columns=['mangaId'],values=fileName)\n",
    "# print(\"Before: \",userDatas.shape)\n",
    "userDatas = userDatas.dropna(thresh=10, axis=1).fillna(0,axis=1)\n",
    "#userRatings.fillna(0, inplace=True)\n",
    "# print(\"After: \",userDatas.shape)\n",
    "\n",
    "corrMatrix = userDatas.corr(method='pearson')\n",
    "print(corrMatrix)\n",
    "def get_similar(manga_Id,data):\n",
    "    similar_datas = corrMatrix[manga_Id]*(data-2.5)\n",
    "    similar_datas = similar_datas.sort_values(ascending=False)\n",
    "    return similar_datas\n",
    "\n",
    "# test = [(\"662a9e8bd2a9173d53c01bb5\",5),(\"662a9e86d2a9173d53c01bb0\",3),(\"662a9e8bd2a9173d53c01bb5\",1),(\"662a9e7ed2a9173d53c01ba8\",2)]\n",
    "# test = [(\"662a9e7dd2a9173d53c01ba7\",1)]\n",
    "manga = '662a9e7dd2a9173d53c01ba7'\n",
    "data = 1\n",
    "similar_mangas_list = []\n",
    "# for manga, data in test:\n",
    "#     similar_mangas_list.append(get_similar(manga, data))\n",
    "similar_mangas_list.append(get_similar(manga, data))\n",
    "similar_mangas = pd.concat(similar_mangas_list, axis=1).sum(axis=1).reset_index()\n",
    "similar_mangas.columns = ['mangaId', 'score']\n",
    "similar_mangas_cleaned = similar_mangas.dropna()\n",
    "# similar_mangas_cleaned['mangaId'].tolist()\n",
    "similar_mangas_cleaned"
   ]
  },
  {
   "cell_type": "code",
   "execution_count": null,
   "metadata": {},
   "outputs": [],
   "source": [
    "import os\n",
    "import pandas as pd\n",
    "\n",
    "user_id = '5f892400948be104b0830fdf'\n",
    "csv_path = '../Collaborative Filtering/Recommendation_Rating.csv'\n",
    "\n",
    "if os.path.exists(csv_path):\n",
    "    # Đọc tệp CSV\n",
    "    recommendation_df = pd.read_csv(csv_path)\n",
    "    \n",
    "    if user_id in recommendation_df.columns:\n",
    "        recommendation_df[user_id] = similar_mangas_cleaned['mangaId']\n",
    "    else:\n",
    "        recommendation_df[user_id] = similar_mangas_cleaned['mangaId']\n",
    "else:\n",
    "    recommendation_df = pd.DataFrame({\n",
    "        user_id: similar_mangas_cleaned['mangaId']\n",
    "    })\n",
    "\n",
    "recommendation_df.to_csv(csv_path, index=False)\n"
   ]
  },
  {
   "cell_type": "code",
   "execution_count": null,
   "metadata": {},
   "outputs": [
    {
     "name": "stdout",
     "output_type": "stream",
     "text": [
      "['662a9e75d2a9173d53c01b9f', '662a9e7ad2a9173d53c01ba4', '662a9e7bd2a9173d53c01ba5', '662a9e73d2a9173d53c01b9d', '662a9e74d2a9173d53c01b9e', '662a9e83d2a9173d53c01bad', '662a9e89d2a9173d53c01bb3', '662a9e85d2a9173d53c01baf', '662a9e7cd2a9173d53c01ba6', '662a9e8ad2a9173d53c01bb4', '662a9e87d2a9173d53c01bb1', '662a9e81d2a9173d53c01bab', '662a9e84d2a9173d53c01bae', '662a9e76d2a9173d53c01ba0', '662a9e82d2a9173d53c01bac', '662a9e7dd2a9173d53c01ba7', '662a9e7ed2a9173d53c01ba8', '662a9e88d2a9173d53c01bb2', '662a9e8bd2a9173d53c01bb5', '662a9e79d2a9173d53c01ba3', '662a9e80d2a9173d53c01baa', '662a9e7fd2a9173d53c01ba9', '662a9e77d2a9173d53c01ba1', '662a9e78d2a9173d53c01ba2', '662a9e86d2a9173d53c01bb0']\n"
     ]
    }
   ],
   "source": [
    "import random\n",
    "\n",
    "# Đọc tệp Recommendation_Rating.csv vào DataFrame\n",
    "csv_path = '../Collaborative Filtering/Recommendation_Rating.csv'\n",
    "if os.path.exists(csv_path):\n",
    "    # Kiểm tra xem cột user_id có tồn tại không\n",
    "    recommendation_df = pd.read_csv(csv_path)\n",
    "    user_id = '5f892400948be104b0830fdg'\n",
    "    if user_id in recommendation_df.columns:\n",
    "        # Nếu cột tồn tại, lấy danh sách mangaId từ cột đó\n",
    "        manga_id_list = recommendation_df[user_id].tolist()\n",
    "    else:\n",
    "        # Nếu cột không tồn tại, chọn ngẫu nhiên một cột từ danh sách cột có sẵn\n",
    "        random_column = random.choice(recommendation_df.columns[0:])  # Chọn ngẫu nhiên từ cột thứ 2 trở đi\n",
    "        manga_id_list = recommendation_df[random_column].tolist()\n",
    "else:\n",
    "    manga_id_list = []\n",
    "# In ra danh sách mangaId\n",
    "print(manga_id_list)\n"
   ]
  }
 ],
 "metadata": {
  "kernelspec": {
   "display_name": "venv",
   "language": "python",
   "name": "python3"
  },
  "language_info": {
   "codemirror_mode": {
    "name": "ipython",
    "version": 3
   },
   "file_extension": ".py",
   "mimetype": "text/x-python",
   "name": "python",
   "nbconvert_exporter": "python",
   "pygments_lexer": "ipython3",
   "version": "3.12.3"
  }
 },
 "nbformat": 4,
 "nbformat_minor": 2
}
